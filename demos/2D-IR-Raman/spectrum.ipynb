{
 "cells": [
  {
   "cell_type": "markdown",
   "metadata": {},
   "source": [
    "## 2D IR-IR-Raman spectrum of liquid water\n",
    "\n",
    "This example uses the file 'dip_pol_neq_2d.converged' that contains a response function with 125 fs along t1 and t2."
   ]
  },
  {
   "cell_type": "code",
   "execution_count": 1,
   "metadata": {},
   "outputs": [],
   "source": [
    "import numpy as np\n",
    "import os\n",
    "import matplotlib.pyplot as plt\n",
    "import matplotlib as mpl\n",
    "import scipy.ndimage\n",
    "import scipy.fft\n",
    "from matplotlib.ticker import MultipleLocator, AutoMinorLocator\n",
    "from mpl_toolkits.axes_grid1 import ImageGrid\n",
    "import matplotlib.patches as mpatches"
   ]
  },
  {
   "cell_type": "markdown",
   "metadata": {},
   "source": [
    "### Define constants and parameters of the calculation."
   ]
  },
  {
   "cell_type": "code",
   "execution_count": 2,
   "metadata": {},
   "outputs": [],
   "source": [
    "# Useful constants.\n",
    "fstoau = 41.34137  # Femtosecond to a.u.\n",
    "autocm1 = 219474.63  # a.u. (Hartree energy unit) to wavenumber\n",
    "invfstocm1 = autocm1 / fstoau  # fs^-1 to cm^-1 conversion"
   ]
  },
  {
   "cell_type": "code",
   "execution_count": 3,
   "metadata": {},
   "outputs": [],
   "source": [
    "# Processing parameters\n",
    "dt = 1 * fstoau  # Timestep 1 fs\n",
    "nsteps = 125  # Number of steps in Rt\n",
    "npad = 1125  # Padding for FFT\n",
    "nplot = 175  # Number of frequency steps to plot.\n",
    "dw = 2 * np.pi / (nsteps + npad + 1) / dt * autocm1  # Frequency step for fft\n",
    "wmin = 0  # Minimum frequency in the plot\n",
    "wmax = nplot * dw  # Maximum frequency in the plot\n",
    "\n",
    "# Damping to avoid a hard cut off at long t_1/t_2.\n",
    "tau = 5e28\n",
    "damping = np.array(\n",
    "    [\n",
    "        [np.exp(-(((i + j) * dt / fstoau) ** 12) / tau) for i in range(nsteps + 1)]\n",
    "        for j in range(nsteps + 1)\n",
    "    ]\n",
    ")"
   ]
  },
  {
   "cell_type": "markdown",
   "metadata": {},
   "source": [
    "### Import response function and compute spectrum."
   ]
  },
  {
   "cell_type": "code",
   "execution_count": 4,
   "metadata": {},
   "outputs": [],
   "source": [
    "# Import Rt.\n",
    "Rt = np.loadtxt(\"dip_pol_neq_2d.converged\")\n",
    "# Rt = np.gradient(RtRaw,dt,axis=0,edge_order=2)\n",
    "# Pad with zeros before Fourier transforming to obtain a smooth spectrum (reduce frequency step).\n",
    "Rt_padded = np.pad(Rt * damping, ((0, npad), (0, npad)))\n",
    "# Sine transform over first time axis (sine trasnform is equivalent to the imaginary part of the Fourier transform).\n",
    "St_partial = np.imag(scipy.fft.fft(Rt_padded, axis=0))\n",
    "# Sine transform over the second time axis.\n",
    "St_raw = np.imag(scipy.fft.fft(St_partial, axis=1))\n",
    "# Take the part of the spectrum that we want to plot, multiply by dt**2 to get the right units and scaling. We divide by 10**6 for convenience here, so the units will be [10**6 a.u.].\n",
    "St = St_raw[: nplot + 1, : nplot + 1] * dt**2 / 10**6"
   ]
  },
  {
   "cell_type": "markdown",
   "metadata": {},
   "source": [
    "### Plot spectrum."
   ]
  },
  {
   "cell_type": "code",
   "execution_count": 5,
   "metadata": {},
   "outputs": [
    {
     "data": {
      "image/png": "[encoded data removed]",
      "text/plain": [
       "<Figure size 330x260 with 1 Axes>"
      ]
     },
     "metadata": {},
     "output_type": "display_data"
    }
   ],
   "source": [
    "plt.rc(\"text\", usetex=True)\n",
    "plt.rc(\"font\", **{\"family\": \"serif\", \"serif\": [\"Computer Modern\"], \"size\": 8})\n",
    "plt.rcParams[\"contour.negative_linestyle\"] = \"solid\"\n",
    "plt.rcParams[\"contour.linewidth\"] = 0.01\n",
    "vmin = -0.51\n",
    "vmax = 0.51\n",
    "levels = np.arange(vmin, vmax, 0.06)\n",
    "\n",
    "fig, ax = plt.subplots(1, 1, figsize=(3.3, 2.6))\n",
    "cs = ax.contourf(\n",
    "    St.T,\n",
    "    levels=levels,\n",
    "    vmin=vmin,\n",
    "    vmax=vmax,\n",
    "    cmap=mpl.cm.bwr,\n",
    "    extend=\"both\",\n",
    "    extent=(wmin, wmax, wmin, wmax),\n",
    ")  # plots color map\n",
    "cs2 = ax.contour(\n",
    "    St.T,\n",
    "    levels=levels,\n",
    "    vmin=vmin,\n",
    "    vmax=vmax,\n",
    "    colors=\"tab:gray\",\n",
    "    extent=(wmin, wmax, wmin, wmax),\n",
    "    alpha=0.4,\n",
    ")  # plots contour lines\n",
    "ax.set_xlim([0, 4400])\n",
    "ax.set_ylim([0, 4400])\n",
    "ax.set_aspect(\"equal\", adjustable=\"box\")\n",
    "ax.set_xlabel(r\"$\\omega_1 / 2 \\pi c\\ [\\rm{cm}^{-1}]$\")\n",
    "ax.set_ylabel(r\"$\\omega_2 / 2 \\pi c\\ [\\rm{cm}^{-1}]$\")\n",
    "\n",
    "plt.show()"
   ]
  }
 ],
 "metadata": {
  "kernelspec": {
   "display_name": "Python 3",
   "language": "python",
   "name": "python3"
  },
  "language_info": {
   "codemirror_mode": {
    "name": "ipython",
    "version": 3
   },
   "file_extension": ".py",
   "mimetype": "text/x-python",
   "name": "python",
   "nbconvert_exporter": "python",
   "pygments_lexer": "ipython3",
   "version": "3.8.5"
  }
 },
 "nbformat": 4,
 "nbformat_minor": 2
}
